{
 "cells": [
  {
   "cell_type": "code",
   "execution_count": null,
   "id": "80f94a6f",
   "metadata": {},
   "outputs": [],
   "source": [
    "# importing necessary libraries in this IA project \n",
    "\n",
    "#common python libraries\n",
    "from statistics import mode\n",
    "from warnings import filters\n",
    "import numpy as np \n",
    "import pandas as pd \n",
    "import os\n",
    "import matplotlib.pyplot as plt \n",
    "import matplotlib.patches as patches \n",
    "\n",
    "#for reading in images and images manipulation \n",
    "import cv2\n",
    "\n",
    "#for label encoding the target variable \n",
    "from sklearn.preprocessing import LabelEncoder\n",
    "\n",
    "#for tensor based operations\n",
    "from tensorflow.keras.utils import to_categorical, normalize\n",
    "\n",
    "#for machine learning \n",
    "from tensorflow.keras.layers import Flatten,Dense ,Conv2D, MaxPooling2D, Dropout\n",
    "from tensorflow.keras.models import Sequential\n",
    "# from tensorflow.keras.optimazers import Adma\n",
    "from tensorflow.keras.optimizers import Adam\n",
    "# from tensorflow.keras.optimizers import Adma\n",
    "\n",
    "#for face detector \n",
    "from mtcnn.mtcnn import MTCNN"
   ]
  },
  {
   "cell_type": "code",
   "execution_count": null,
   "id": "4388b189",
   "metadata": {},
   "outputs": [],
   "source": [
    "# part 1: Create a training dataset\n",
    "#loading in the dataset from kaggle \"https://www.kaggle.com/wobotintelligence/face-mask-detection-dataset\"\n",
    "#and we shoud to create a repestorie data/train.csv and data/Medical mask/Medical mask/Medical mask/images/\n",
    "\n",
    "#fetching train.csv"
   ]
  },
  {
   "cell_type": "code",
   "execution_count": null,
   "id": "6fa3fe8d",
   "metadata": {},
   "outputs": [],
   "source": [
    "#reading in the csv file \n",
    "train = pd.read_csv(\"data/train.csv\")\n",
    "#displaying the first five rows \n",
    "train.head()"
   ]
  }
 ],
 "metadata": {
  "kernelspec": {
   "display_name": "Python 3 (ipykernel)",
   "language": "python",
   "name": "python3"
  },
  "language_info": {
   "codemirror_mode": {
    "name": "ipython",
    "version": 3
   },
   "file_extension": ".py",
   "mimetype": "text/x-python",
   "name": "python",
   "nbconvert_exporter": "python",
   "pygments_lexer": "ipython3",
   "version": "3.9.6"
  }
 },
 "nbformat": 4,
 "nbformat_minor": 5
}
